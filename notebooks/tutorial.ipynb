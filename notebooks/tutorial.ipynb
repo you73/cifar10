{
    "cells": [
     {
      "cell_type": "markdown",
      "metadata": {},
      "source": [
       "# CIFAR-10 Classifier Tutorial\n",
       "\n",
       "This tutorial will guide you through the process of using the CIFAR-10 classifier library to preprocess data, extract features, train models, and evaluate them."
      ]
     },
     {
      "cell_type": "code",
      "execution_count": null,
      "metadata": {},
      "outputs": [],
      "source": [
       "# Define base directory\n",
       "import sys\n",
       "import os\n",
       "BASE_DIR = os.path.abspath(os.path.join(os.getcwd(), '..'))\n",
       "sys.path.append(BASE_DIR)"
      ]
     },
     {
      "cell_type": "code",
      "execution_count": null,
      "metadata": {},
      "outputs": [],
      "source": [
       "# Import necessary modules\n",
       "from src.benchmark import CIFAR10Benchmark\n",
       "from src.data.dataset import download_and_extract_cifar10, load_cifar10"
      ]
     },
     {
      "cell_type": "code",
      "execution_count": null,
      "metadata": {},
      "outputs": [],
      "source": [
       "## Download and Extract CIFAR-10 Data\n",
       "\n",
       "# Download and extract CIFAR-10 dataset\n",
       "download_and_extract_cifar10()"
      ]
     },
     {
      "cell_type": "code",
      "execution_count": null,
      "metadata": {},
      "outputs": [],
      "source": [
       "## Load CIFAR-10 Data\n",
       "# Load the CIFAR-10 dataset\n",
       "x_train, x_test, y_train, y_test = load_cifar10()\n",
       "print(f\"Training data shape: {x_train.shape}\")\n",
       "print(f\"Test data shape: {x_test.shape}\")"
      ]
     },
     {
      "cell_type": "code",
      "execution_count": null,
      "metadata": {},
      "outputs": [],
      "source": [
       "## Run Benchmarks\n",
       "\n",
       "# Normalize + Flatten + KNN\n",
       "benchmark = CIFAR10Benchmark(\n",
       "    preprocessor=\"normalize\",\n",
       "    feature_extractor=\"flatten\",\n",
       "    classifier=\"knn\"\n",
       ")\n",
       "benchmark.run_benchmark()\n",
       "results_normalize_flatten_knn = benchmark.results"
      ]
     },
     {
      "cell_type": "code",
      "execution_count": null,
      "metadata": {},
      "outputs": [],
      "source": [
       "# Normalize + HOG + KNN\n",
       "benchmark = CIFAR10Benchmark(\n",
       "    preprocessor=\"normalize\",\n",
       "    feature_extractor=\"hog\",\n",
       "    classifier=\"knn\"\n",
       ")\n",
       "benchmark.run_benchmark()\n",
       "results_normalize_hog_knn = benchmark.results"
      ]
     },
     {
      "cell_type": "code",
      "execution_count": null,
      "metadata": {},
      "outputs": [],
      "source": [
       "# Normalize + LBP + KNN\n",
       "benchmark = CIFAR10Benchmark(\n",
       "    preprocessor=\"normalize\",\n",
       "    feature_extractor=\"lbp\",\n",
       "    classifier=\"knn\"\n",
       ")\n",
       "benchmark.run_benchmark()\n",
       "results_normalize_lbp_knn = benchmark.results"
      ]
     },
     {
      "cell_type": "code",
      "execution_count": null,
      "metadata": {},
      "outputs": [],
      "source": [
       "# Normalize + Flatten + Logistic Regression\n",
       "benchmark = CIFAR10Benchmark(\n",
       "    preprocessor=\"normalize\",\n",
       "    feature_extractor=\"flatten\",\n",
       "    classifier=\"logistic_regression\"\n",
       ")\n",
       "benchmark.run_benchmark()\n",
       "results_normalize_flatten_logistic_regression = benchmark.results"
      ]
     },
     {
      "cell_type": "code",
      "execution_count": null,
      "metadata": {},
      "outputs": [],
      "source": [
       "# Normalize + HOG + Logistic Regression\n",
       "benchmark = CIFAR10Benchmark(\n",
       "    preprocessor=\"normalize\",\n",
       "    feature_extractor=\"hog\",\n",
       "    classifier=\"logistic_regression\"\n",
       ")\n",
       "benchmark.run_benchmark()\n",
       "results_normalize_hog_logistic_regression = benchmark.results"
      ]
     },
     {
      "cell_type": "code",
      "execution_count": null,
      "metadata": {},
      "outputs": [],
      "source": [
       "# Normalize + LBP + Logistic Regression\n",
       "benchmark = CIFAR10Benchmark(\n",
       "    preprocessor=\"normalize\",\n",
       "    feature_extractor=\"lbp\",\n",
       "    classifier=\"logistic_regression\"\n",
       ")\n",
       "benchmark.run_benchmark()\n",
       "results_normalize_lbp_logistic_regression = benchmark.results"
      ]
     },
     {
      "cell_type": "code",
      "execution_count": null,
      "metadata": {},
      "outputs": [],
      "source": [
       "# Normalize + Flatten + SVM\n",
       "benchmark = CIFAR10Benchmark(\n",
       "    preprocessor=\"normalize\",\n",
       "    feature_extractor=\"flatten\",\n",
       "    classifier=\"svm\"\n",
       ")\n",
       "benchmark.run_benchmark()\n",
       "results_normalize_flatten_svm = benchmark.results"
      ]
     },
     {
      "cell_type": "code",
      "execution_count": null,
      "metadata": {},
      "outputs": [],
      "source": [
       "# Normalize + HOG + SVM\n",
       "benchmark = CIFAR10Benchmark(\n",
       "    preprocessor=\"normalize\",\n",
       "    feature_extractor=\"hog\",\n",
       "    classifier=\"svm\"\n",
       ")\n",
       "benchmark.run_benchmark()\n",
       "results_normalize_hog_svm = benchmark.results"
      ]
     },
     {
      "cell_type": "code",
      "execution_count": null,
      "metadata": {},
      "outputs": [],
      "source": [
       "# Normalize + LBP + SVM\n",
       "benchmark = CIFAR10Benchmark(\n",
       "    preprocessor=\"normalize\",\n",
       "    feature_extractor=\"lbp\",\n",
       "    classifier=\"svm\"\n",
       ")\n",
       "benchmark.run_benchmark()\n",
       "results_normalize_lbp_svm = benchmark.results"
      ]
     }
    ],
    "metadata": {
     "kernelspec": {
      "display_name": "Python 3",
      "language": "python",
      "name": "python3"
     },
     "language_info": {
      "codemirror_mode": {
       "name": "ipython",
       "version": 3
      },
      "file_extension": ".py",
      "mimetype": "text/x-python",
      "name": "python",
      "nbconvert_exporter": "python",
      "pygments_lexer": "ipython3",
      "version": "3.8.5"
     },
     "nbformat": 4,
     "nbformat_minor": 4
    }
   }
   